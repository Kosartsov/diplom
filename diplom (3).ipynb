{
  "nbformat": 4,
  "nbformat_minor": 0,
  "metadata": {
    "colab": {
      "provenance": [],
      "collapsed_sections": [
        "g6P0EKAFngQw",
        "PpEatJnyJ_X1"
      ],
      "toc_visible": true
    },
    "kernelspec": {
      "name": "python3",
      "display_name": "Python 3"
    },
    "language_info": {
      "name": "python"
    }
  },
  "cells": [
    {
      "cell_type": "code",
      "execution_count": null,
      "metadata": {
        "collapsed": true,
        "id": "TCQSNtG40r0h"
      },
      "outputs": [],
      "source": [
        "!pip install facenet-pytorch torch torchvision scikit-learn"
      ]
    },
    {
      "cell_type": "code",
      "source": [
        "!pip install facenet-pytorch"
      ],
      "metadata": {
        "collapsed": true,
        "id": "kbHwUPLWNQre"
      },
      "execution_count": null,
      "outputs": []
    },
    {
      "cell_type": "markdown",
      "source": [
        "# Скачиваем датасет"
      ],
      "metadata": {
        "id": "0IgNA9At08iO"
      }
    },
    {
      "cell_type": "code",
      "source": [
        "# 1. Подключаем Google Диск\n",
        "from google.colab import drive\n",
        "drive.mount('/content/drive')"
      ],
      "metadata": {
        "id": "7DJmDjqw0zlS"
      },
      "execution_count": null,
      "outputs": []
    },
    {
      "cell_type": "code",
      "source": [
        "# 2. Копируем папку с изображениями в локальное хранилище Colab\n",
        "import shutil\n",
        "import os\n",
        "\n",
        "source_dir = '/content/drive/MyDrive/celebA_train_500/celebA_train_500/celebA_imgs'\n",
        "target_dir = '/content/images_dataset'\n",
        "\n",
        "# Создаем локальную папку\n",
        "os.makedirs(target_dir, exist_ok=True)\n",
        "\n",
        "# Копируем все файлы\n",
        "shutil.copytree(source_dir, target_dir, dirs_exist_ok=True)\n",
        "print(f\"Скопировано {len(os.listdir(target_dir))} изображений\")"
      ],
      "metadata": {
        "id": "foMtWKX41Dwy"
      },
      "execution_count": null,
      "outputs": []
    },
    {
      "cell_type": "code",
      "source": [
        "# Чтение аннотаций\n",
        "with open('/content/drive/MyDrive/celebA_train_500/celebA_train_500/celebA_anno.txt', 'r') as f:\n",
        "    annotations = f.readlines()\n",
        "\n",
        "# Создаем словарь аннотаций: {'имя_файла': 'id'}\n",
        "anno_dict = {}\n",
        "for line in annotations:\n",
        "    parts = line.strip().split()\n",
        "    if len(parts) >= 2:\n",
        "        filename = parts[0]\n",
        "        anno_id = parts[1]\n",
        "        anno_dict[filename] = anno_id"
      ],
      "metadata": {
        "id": "ECzz6X0d1FgR"
      },
      "execution_count": null,
      "outputs": []
    },
    {
      "cell_type": "code",
      "source": [
        "len(anno_dict)"
      ],
      "metadata": {
        "id": "9fmVJ35LcXdx"
      },
      "execution_count": null,
      "outputs": []
    },
    {
      "cell_type": "code",
      "source": [
        "target_dir = '/content/images_dataset'\n",
        "img_dir = target_dir"
      ],
      "metadata": {
        "id": "_351_rax1X-C"
      },
      "execution_count": null,
      "outputs": []
    },
    {
      "cell_type": "markdown",
      "source": [
        "# Визуализация"
      ],
      "metadata": {
        "id": "QLsX53jl1KHY"
      }
    },
    {
      "cell_type": "code",
      "source": [
        "import os\n",
        "import random\n",
        "\n",
        "images = os.listdir(target_dir)\n",
        "random_image = random.choice(images)\n",
        "\n",
        "# Получаем аннотацию\n",
        "image_id = anno_dict.get(random_image, 'Аннотация не найдена')\n",
        "\n",
        "print(f'Случайное изображение: {random_image}')\n",
        "print(f'ID: {image_id}')\n",
        "\n",
        "# Отобразим изображение\n",
        "from IPython.display import Image, display\n",
        "display(Image(os.path.join(target_dir, random_image)))"
      ],
      "metadata": {
        "id": "slbrcPHN1HLA"
      },
      "execution_count": null,
      "outputs": []
    },
    {
      "cell_type": "code",
      "source": [
        "from IPython.display import display, Image as IPImage\n",
        "\n",
        "def show_images_by_class(target_class, images, target_dir, anno_dict):\n",
        "    \"\"\"\n",
        "    Функция для отображения до 5 изображений заданного класса.\n",
        "    Если изображений меньше 5, выводятся все доступные изображения.\n",
        "\n",
        "    :param target_class: Класс, изображения которого нужно отобразить (строка или число).\n",
        "    :param images: Список названий файлов изображений.\n",
        "    :param target_dir: Директория, в которой находятся изображения.\n",
        "    :param anno_dict: Словарь, сопоставляющий каждому изображению его класс.\n",
        "    \"\"\"\n",
        "    # Фильтруем изображения по заданному классу\n",
        "    class_images = [img for img in images if anno_dict.get(img) == str(target_class)]\n",
        "\n",
        "    # Выбираем до 5 изображений\n",
        "    selected_images = class_images[:5]\n",
        "\n",
        "    # Если изображений меньше 5, выводим сообщение\n",
        "    if len(class_images) < 5:\n",
        "        print(f\"Найдено {len(class_images)} изображений для класса {target_class}.\")\n",
        "    else:\n",
        "        print(f\"Выводим первые 5 изображений из {len(class_images)} доступных.\")\n",
        "\n",
        "    # Отображаем изображения\n",
        "    for img_name in selected_images:\n",
        "        img_path = os.path.join(target_dir, img_name)\n",
        "        print(f\"Отображаем изображение: {img_name}\")\n",
        "        display(IPImage(filename=img_path))"
      ],
      "metadata": {
        "id": "POvDeu5Z1Ond"
      },
      "execution_count": null,
      "outputs": []
    },
    {
      "cell_type": "code",
      "source": [
        "show_images_by_class('222', images, target_dir, anno_dict)"
      ],
      "metadata": {
        "id": "UUbLEyK11T1v",
        "collapsed": true
      },
      "execution_count": null,
      "outputs": []
    },
    {
      "cell_type": "markdown",
      "source": [
        "# Классификация"
      ],
      "metadata": {
        "id": "ueNa7uze1d7U"
      }
    },
    {
      "cell_type": "code",
      "source": [
        "import os\n",
        "import torch\n",
        "from torch import nn\n",
        "from torch.utils.data import Dataset, DataLoader\n",
        "from torchvision import transforms\n",
        "from PIL import Image\n",
        "from facenet_pytorch import MTCNN, InceptionResnetV1\n",
        "from sklearn.metrics import accuracy_score, f1_score\n",
        "from tqdm import tqdm"
      ],
      "metadata": {
        "id": "TXsHujPs1ggz"
      },
      "execution_count": null,
      "outputs": []
    },
    {
      "cell_type": "code",
      "source": [
        "device = torch.device('cuda' if torch.cuda.is_available() else 'cpu')\n",
        "mtcnn = MTCNN(image_size=160, margin=14, post_process=True, device=device)\n",
        "facenet = InceptionResnetV1(pretrained='vggface2').eval().to(device)"
      ],
      "metadata": {
        "id": "xkxdnWTA1jgZ"
      },
      "execution_count": null,
      "outputs": []
    },
    {
      "cell_type": "code",
      "source": [
        "import os\n",
        "\n",
        "missing_files = []\n",
        "\n",
        "for filename in anno_dict.keys():\n",
        "    full_path = os.path.join(target_dir, filename)\n",
        "    if not os.path.exists(full_path):\n",
        "        missing_files.append(filename)\n",
        "\n",
        "if missing_files:\n",
        "    print(f\"❌ Найдено {len(missing_files)} отсутствующих файлов:\")\n",
        "    print(missing_files[:10])  # Покажет первые 10\n",
        "else:\n",
        "    print(\"✅ Все изображения из anno_dict найдены в target_dir.\")"
      ],
      "metadata": {
        "id": "QDPVM-Q81lQm"
      },
      "execution_count": null,
      "outputs": []
    },
    {
      "cell_type": "code",
      "source": [
        "filtered_anno_dict = {k: v for k, v in anno_dict.items()\n",
        "                      if os.path.exists(os.path.join(target_dir, k))}\n",
        "print(f\"📦 Используем {len(filtered_anno_dict)} изображений из {len(anno_dict)} после фильтрации.\")"
      ],
      "metadata": {
        "id": "V8wSxmx21m40"
      },
      "execution_count": null,
      "outputs": []
    },
    {
      "cell_type": "code",
      "source": [
        "unique_values = len(set(filtered_anno_dict.values()))\n",
        "print(unique_values)"
      ],
      "metadata": {
        "id": "LKBHAHxwkLCV"
      },
      "execution_count": null,
      "outputs": []
    },
    {
      "cell_type": "code",
      "source": [
        "# === 1. Dataset с предобработкой изображений ===\n",
        "class FaceDataset(Dataset):\n",
        "    def __init__(self, image_dir, anno_dict, transform=None):\n",
        "        self.image_dir = image_dir\n",
        "        self.anno_dict = anno_dict\n",
        "        self.images = list(anno_dict.keys())\n",
        "        self.labels = list(map(int, [anno_dict[img] for img in self.images]))\n",
        "        self.transform = transform\n",
        "\n",
        "    def __len__(self):\n",
        "        return len(self.images)\n",
        "\n",
        "    def __getitem__(self, idx):\n",
        "        image_path = os.path.join(self.image_dir, self.images[idx])\n",
        "        image = Image.open(image_path).convert('RGB')\n",
        "\n",
        "        face = mtcnn(image)\n",
        "        if face is None:\n",
        "            face = torch.zeros((3, 160, 160))  # fallback\n",
        "\n",
        "        if self.transform:\n",
        "            face = self.transform(face)\n",
        "\n",
        "        label = self.labels[idx]\n",
        "        return face, label"
      ],
      "metadata": {
        "id": "lTX7-h4l1x-T"
      },
      "execution_count": null,
      "outputs": []
    },
    {
      "cell_type": "code",
      "source": [
        "# === 2. Классификатор по эмбеддингам ===\n",
        "class FaceClassifier(nn.Module):\n",
        "    def __init__(self, num_classes):\n",
        "        super().__init__()\n",
        "        self.facenet = facenet  # только эмбеддинги\n",
        "        self.classifier = nn.Linear(512, num_classes)\n",
        "\n",
        "    def forward(self, x):\n",
        "        embeddings = self.facenet(x)\n",
        "        return self.classifier(embeddings)"
      ],
      "metadata": {
        "id": "3_EiEqhu10Ax"
      },
      "execution_count": null,
      "outputs": []
    },
    {
      "cell_type": "code",
      "source": [
        "# === 3. Обучение модели ===\n",
        "def train_model(model, dataloader, criterion, optimizer):\n",
        "    model.train()\n",
        "    for images, labels in tqdm(dataloader):\n",
        "        images, labels = images.to(device), labels.to(device)\n",
        "        outputs = model(images)\n",
        "        loss = criterion(outputs, labels)\n",
        "\n",
        "        optimizer.zero_grad()\n",
        "        loss.backward()\n",
        "        optimizer.step()"
      ],
      "metadata": {
        "id": "Bo0CUtD614Gc"
      },
      "execution_count": null,
      "outputs": []
    },
    {
      "cell_type": "code",
      "source": [
        "# === 4. Оценка качества ===\n",
        "def evaluate_model(model, dataloader):\n",
        "    model.eval()\n",
        "    all_preds, all_labels = [], []\n",
        "    with torch.no_grad():\n",
        "        for images, labels in dataloader:\n",
        "            images = images.to(device)\n",
        "            outputs = model(images)\n",
        "            preds = torch.argmax(outputs, dim=1).cpu().numpy()\n",
        "            all_preds.extend(preds)\n",
        "            all_labels.extend(labels.numpy())\n",
        "    acc = accuracy_score(all_labels, all_preds)\n",
        "    f1 = f1_score(all_labels, all_preds, average='macro')\n",
        "    return acc, f1"
      ],
      "metadata": {
        "id": "ZNmfX6g414--"
      },
      "execution_count": null,
      "outputs": []
    },
    {
      "cell_type": "markdown",
      "source": [
        "# Пробую разделить на train & test"
      ],
      "metadata": {
        "id": "g6P0EKAFngQw"
      }
    },
    {
      "cell_type": "code",
      "source": [
        "import random\n",
        "from collections import defaultdict\n",
        "\n",
        "def split_dict_by_class(anno_dict, train_ratio=0.8, seed=42):\n",
        "    random.seed(seed)\n",
        "    class_to_images = defaultdict(list)\n",
        "\n",
        "    # Группируем изображения по меткам\n",
        "    for img, label in anno_dict.items():\n",
        "        class_to_images[label].append(img)\n",
        "\n",
        "    train_dict, test_dict = {}, {}\n",
        "\n",
        "    for label, images in class_to_images.items():\n",
        "        if len(images) < 2:\n",
        "            # Если слишком мало изображений — оставляем одно в train\n",
        "            train_dict[images[0]] = label\n",
        "            continue\n",
        "\n",
        "        random.shuffle(images)\n",
        "        split_idx = int(len(images) * train_ratio)\n",
        "        train_images = images[:max(split_idx, 1)]  # хотя бы одно в train\n",
        "        test_images = images[max(split_idx, 1):]\n",
        "\n",
        "        for img in train_images:\n",
        "            train_dict[img] = label\n",
        "        for img in test_images:\n",
        "            test_dict[img] = label\n",
        "\n",
        "    return train_dict, test_dict\n",
        "\n",
        "train_dict, test_dict = split_dict_by_class(filtered_anno_dict, train_ratio=0.8)\n",
        "print(f\"📊 Train: {len(train_dict)}, Test: {len(test_dict)}, Total classes: {len(set(train_dict.values()))}\")\n"
      ],
      "metadata": {
        "id": "Zdxbl4lEnmPK"
      },
      "execution_count": null,
      "outputs": []
    },
    {
      "cell_type": "code",
      "source": [
        "train_dataset = FaceDataset(target_dir, train_dict)\n",
        "test_dataset = FaceDataset(target_dir, test_dict)\n",
        "\n",
        "train_loader = DataLoader(train_dataset, batch_size=16, shuffle=True)\n",
        "test_loader = DataLoader(test_dataset, batch_size=16)"
      ],
      "metadata": {
        "id": "DPTi57vCnqBY"
      },
      "execution_count": null,
      "outputs": []
    },
    {
      "cell_type": "code",
      "source": [
        "num_classes = len(set(filtered_anno_dict.values()))\n",
        "model = FaceClassifier(num_classes).to(device)\n",
        "\n",
        "# Замораживаем веса facenet внутри модели\n",
        "for param in model.facenet.parameters():\n",
        "    param.requires_grad = False\n",
        "\n",
        "criterion = nn.CrossEntropyLoss()\n",
        "optimizer = torch.optim.Adam(model.classifier.parameters(), lr=1e-3)\n",
        "\n",
        "train_model(model, train_loader, criterion, optimizer)\n",
        "acc, f1 = evaluate_model(model, test_loader)"
      ],
      "metadata": {
        "id": "RMjxMD3Qn1ba"
      },
      "execution_count": null,
      "outputs": []
    },
    {
      "cell_type": "code",
      "source": [
        "print(f\"Accuracy: {acc:.4f}, F1: {f1:.4f}\")"
      ],
      "metadata": {
        "id": "S5SrtkPyvE7E"
      },
      "execution_count": null,
      "outputs": []
    },
    {
      "cell_type": "markdown",
      "source": [
        "# Дообучаем"
      ],
      "metadata": {
        "id": "IcjpqBCgv929"
      }
    },
    {
      "cell_type": "code",
      "source": [
        "dataset = FaceDataset(target_dir, filtered_anno_dict)\n",
        "dataloader = DataLoader(dataset, batch_size=16, shuffle=True)\n",
        "\n",
        "num_classes = len(set(filtered_anno_dict.values()))\n",
        "model = FaceClassifier(num_classes).to(device)\n",
        "\n",
        "# Замораживаем веса facenet внутри модели\n",
        "for param in model.facenet.parameters():\n",
        "    param.requires_grad = False\n",
        "\n",
        "criterion = nn.CrossEntropyLoss()\n",
        "optimizer = torch.optim.Adam(model.classifier.parameters(), lr=1e-3)"
      ],
      "metadata": {
        "id": "ewM7pIjB16lV"
      },
      "execution_count": null,
      "outputs": []
    },
    {
      "cell_type": "code",
      "source": [
        "# Обучение\n",
        "train_model(model, dataloader, criterion, optimizer)"
      ],
      "metadata": {
        "id": "aykyQdW519rO"
      },
      "execution_count": null,
      "outputs": []
    },
    {
      "cell_type": "code",
      "source": [
        "acc, f1 = evaluate_model(model, dataloader)\n",
        "print(f\"Accuracy: {acc:.4f}, F1: {f1:.4f}\")"
      ],
      "metadata": {
        "id": "LVxA77_v2AO0"
      },
      "execution_count": null,
      "outputs": []
    },
    {
      "cell_type": "code",
      "source": [
        "def predict_single_image(image_path, model, transform=None):\n",
        "    model.eval()\n",
        "\n",
        "    # Загрузка и преобразование изображения\n",
        "    image = Image.open(image_path).convert('RGB')\n",
        "    face = mtcnn(image)\n",
        "\n",
        "    if face is None:\n",
        "        print(\"❗ Лицо не найдено на изображении.\")\n",
        "        return None\n",
        "\n",
        "    if transform:\n",
        "        face = transform(face)\n",
        "\n",
        "    face = face.unsqueeze(0).to(device)  # Добавляем batch dimension\n",
        "\n",
        "    # Предсказание\n",
        "    with torch.no_grad():\n",
        "        output = model(face)\n",
        "        predicted_class = torch.argmax(output, dim=1).item()\n",
        "\n",
        "    return predicted_class"
      ],
      "metadata": {
        "id": "VbMeJ_Kb2DJx"
      },
      "execution_count": null,
      "outputs": []
    },
    {
      "cell_type": "code",
      "source": [
        "image_path = os.path.join(target_dir, '075422.jpg')  # или другой файл\n",
        "predicted_class = predict_single_image(image_path, model)\n",
        "print(f\"📸 Предсказанный класс: {predicted_class}\")"
      ],
      "metadata": {
        "id": "LZOSgvKZ2GRH"
      },
      "execution_count": null,
      "outputs": []
    },
    {
      "cell_type": "markdown",
      "source": [
        "# FGSM"
      ],
      "metadata": {
        "id": "hORVKBbEEfN9"
      }
    },
    {
      "cell_type": "code",
      "source": [
        "# model: атакуемый классификатор\n",
        "# x: чистое изображение\n",
        "# target -- целевой класс или исходный класс\n",
        "# eps: сила атаки\n",
        "# targeted: режим атаки\n",
        "\n",
        "# атака возможна в двух режимах (targeted и untargeted)\n",
        "# в случае targeted -- параметр target -- целевой класс\n",
        "# в случае untargeted -- параметр target -- исходный класс\n",
        "\n",
        "\n",
        "def fgsm(model, x, target, eps=0.25, targeted=True):\n",
        "    # копируем входной тензор\n",
        "    input_ = x.clone().detach_()\n",
        "    # включаем градиенты\n",
        "    input_.requires_grad_()\n",
        "\n",
        "    logits = model(input_)\n",
        "    target = torch.LongTensor([target])\n",
        "    model.zero_grad()\n",
        "    # считаем лосс функцию\n",
        "    loss = nn.CrossEntropyLoss()(logits, target)\n",
        "    # производим обратное распространение ошибки\n",
        "    loss.backward()\n",
        "\n",
        "    if targeted:\n",
        "        # если атака направленная -- приближаем к таргету\n",
        "        out = input_ - eps * input_.grad.sign()\n",
        "    else:\n",
        "       # если атака ненаправленная -- отдаляем от оригинала\n",
        "        out = input_ + eps * input_.grad.sign()\n",
        "    # обрезаем в стандартный диапазон значений пикселей изображения\n",
        "    out.clamp_(min=-1.0, max=1.0)\n",
        "    return out"
      ],
      "metadata": {
        "id": "QxjIjOvNEkNk"
      },
      "execution_count": null,
      "outputs": []
    },
    {
      "cell_type": "code",
      "source": [
        "# Выбираем случайный индекс\n",
        "idx = random.randint(0, len(dataset) - 1)\n",
        "\n",
        "# Получаем изображение и метку\n",
        "image, label = dataset[idx]\n",
        "\n",
        "# Подготавливаем для модели\n",
        "image = image.unsqueeze(0).to(device)  # добавляем batch dimension\n",
        "label = torch.tensor(label).to(device)  # переносим на нужное устройство"
      ],
      "metadata": {
        "id": "MzUO2rOsE2D-"
      },
      "execution_count": null,
      "outputs": []
    },
    {
      "cell_type": "code",
      "source": [
        "model.eval()\n",
        "# Атака\n",
        "adv_image = fgsm(model, image, target=label.item(), eps=0.05, targeted=False)"
      ],
      "metadata": {
        "id": "_64YffVTE40B"
      },
      "execution_count": null,
      "outputs": []
    },
    {
      "cell_type": "code",
      "source": [
        "model.eval()\n",
        "\n",
        "# Предсказание до атаки\n",
        "with torch.no_grad():\n",
        "    orig_pred = model(image)\n",
        "    orig_class = torch.argmax(orig_pred, dim=1).item()\n",
        "\n",
        "# Предсказание после атаки\n",
        "with torch.no_grad():\n",
        "    adv_pred = model(adv_image)\n",
        "    adv_class = torch.argmax(adv_pred, dim=1).item()\n",
        "\n",
        "print(f\"🎯 Оригинальный класс: {orig_class}\")\n",
        "print(f\"🎯 Предсказанный класс после атаки: {adv_class}\")"
      ],
      "metadata": {
        "id": "8c__5ejDE7MI"
      },
      "execution_count": null,
      "outputs": []
    },
    {
      "cell_type": "code",
      "source": [
        "import matplotlib.pyplot as plt\n",
        "\n",
        "def show_tensor_image(tensor):\n",
        "    tensor = tensor.squeeze(0).detach().cpu()\n",
        "    tensor = tensor - tensor.min()  # поднимаем минимум к 0\n",
        "    tensor = tensor / (tensor.max() + 1e-8)  # нормируем максимум к 1, защита от деления на 0\n",
        "    np_image = tensor.permute(1, 2, 0).numpy()\n",
        "    plt.imshow(np_image)\n",
        "    plt.axis('off')\n",
        "    plt.show()\n",
        "\n",
        "# Оригинальное изображение\n",
        "show_tensor_image(image)\n",
        "\n",
        "# Атакованное изображение\n",
        "show_tensor_image(adv_image)"
      ],
      "metadata": {
        "id": "el28w6gzFMDh"
      },
      "execution_count": null,
      "outputs": []
    },
    {
      "cell_type": "code",
      "source": [
        "# Изначальная фотография\n",
        "from PIL import Image as PILImage\n",
        "\n",
        "image, true_label = dataset[idx]\n",
        "image = image.unsqueeze(0).to(device)\n",
        "true_label = torch.tensor([true_label]).to(device)\n",
        "\n",
        "# Получаем имя файла по индексу\n",
        "image_filename = dataset.images[idx]\n",
        "image_path = os.path.join(target_dir, image_filename)\n",
        "\n",
        "# Загружаем оригинал\n",
        "original_img = PILImage.open(image_path).convert('RGB')\n",
        "\n",
        "# Показываем\n",
        "plt.imshow(original_img)\n",
        "plt.title(f\"Original image: {image_filename}, class: {true_label.item()}\")\n",
        "plt.axis('off')\n",
        "plt.show()"
      ],
      "metadata": {
        "id": "AqQ06xs8FM3e"
      },
      "execution_count": null,
      "outputs": []
    },
    {
      "cell_type": "code",
      "source": [
        "show_images_by_class('225', images, target_dir, anno_dict)"
      ],
      "metadata": {
        "collapsed": true,
        "id": "ouIPD5AoHCfD"
      },
      "execution_count": null,
      "outputs": []
    },
    {
      "cell_type": "markdown",
      "source": [
        "# PGD"
      ],
      "metadata": {
        "id": "PpEatJnyJ_X1"
      }
    },
    {
      "cell_type": "code",
      "source": [
        "# x: чистое изображение\n",
        "# label: метка чистого изображения\n",
        "# k: кол-во шагов атаки\n",
        "# eps: ограничение на добавку\n",
        "# eps_step: ограничение на добавку в процессе каждого шага\n",
        "\n",
        "# На каждом шаге происходит FGSM атака с последующим проецированием на l-inf шар вокруг x с ограничением eps\n",
        "\n",
        "def pgd(model, x, target, targeted, k=10, eps=0.15, eps_step=0.015):\n",
        "    x_min = x - eps\n",
        "    x_max = x + eps\n",
        "\n",
        "    # инициализируем x_adv случайным возмущением\n",
        "    x_adv = x + eps * (2 * torch.rand_like(x) - 1)\n",
        "    # обрезаем в стандартный диапазон значений пикселей изображения\n",
        "    x_adv.clamp_(min=0.0, max=1.0)\n",
        "\n",
        "    for i in range(k):\n",
        "        # шаг FGSM\n",
        "        x_adv = fgsm(model, x_adv, target, eps_step, targeted)\n",
        "        # шаг проекции\n",
        "        x_adv = torch.min(x_max, torch.max(x_min, x_adv))\n",
        "\n",
        "    # обрезаем в стандартный диапазон значений пикселей изображения\n",
        "    x_adv.clamp_(min=-1.0, max=1.0)\n",
        "    return x_adv"
      ],
      "metadata": {
        "id": "lamxFXG-KBlE"
      },
      "execution_count": null,
      "outputs": []
    },
    {
      "cell_type": "code",
      "source": [
        "adv_image = pgd(model, image, target=label.item(), targeted=False)"
      ],
      "metadata": {
        "id": "LWl_HzmDKPmp"
      },
      "execution_count": null,
      "outputs": []
    },
    {
      "cell_type": "code",
      "source": [
        "# Предсказание до атаки\n",
        "with torch.no_grad():\n",
        "    orig_pred = model(image)\n",
        "    orig_class = torch.argmax(orig_pred, dim=1).item()\n",
        "\n",
        "# Предсказание после атаки\n",
        "with torch.no_grad():\n",
        "    adv_pred = model(adv_image)\n",
        "    adv_class = torch.argmax(adv_pred, dim=1).item()\n",
        "\n",
        "print(f\"🎯 Оригинальный класс: {orig_class}\")\n",
        "print(f\"🎯 Предсказанный класс после атаки: {adv_class}\")"
      ],
      "metadata": {
        "id": "lMSOOQtHLHYN"
      },
      "execution_count": null,
      "outputs": []
    },
    {
      "cell_type": "code",
      "source": [
        "def show_tensor_image(tensor):\n",
        "    tensor = tensor.squeeze(0).detach().cpu()\n",
        "    tensor = tensor - tensor.min()  # поднимаем минимум к 0\n",
        "    tensor = tensor / (tensor.max() + 1e-8)  # нормируем максимум к 1, защита от деления на 0\n",
        "    np_image = tensor.permute(1, 2, 0).numpy()\n",
        "    plt.imshow(np_image)\n",
        "    plt.axis('off')\n",
        "    plt.show()\n",
        "\n",
        "# Оригинальное изображение\n",
        "show_tensor_image(image)\n",
        "\n",
        "# Атакованное изображение\n",
        "show_tensor_image(adv_image)"
      ],
      "metadata": {
        "id": "srbBd1dCKd_V"
      },
      "execution_count": null,
      "outputs": []
    },
    {
      "cell_type": "markdown",
      "source": [
        "# C&W"
      ],
      "metadata": {
        "id": "jvgNfYE4OTDe"
      }
    },
    {
      "cell_type": "code",
      "source": [
        "import numpy as np"
      ],
      "metadata": {
        "id": "u53XpGLXOyxF"
      },
      "execution_count": null,
      "outputs": []
    },
    {
      "cell_type": "code",
      "source": [
        "# значения по умолчанию\n",
        "# MAX_ITERATIONS = 10  -- максимальное кол-во итераций градиентного спуска\n",
        "# LEARNING_RATE = 1e-2 -- чем больше тем быстрее, но результат менее точный\n",
        "# INITIAL_CONST = 1e-3 -- начальное значение константы C\n",
        "# LARGEST_CONST = 20   -- максимальное значение константы C\n",
        "# CONST_FACTOR = 2.0   -- CONST_FACTOR > 1, скорость с которой увеличивается константа C\n",
        "# norm = 'L2'          -- норма для второй компоненты лосс функции ('L2', 'L0', 'Linf')\n",
        "# threshold = 0.0001   -- порог для определения успешности атаки\n",
        "\n",
        "def cw_attack(model, img, target, targeted, INITIAL_CONST = 1e-3, batch_size=1, num_channels=3,\n",
        "              image_size=160, LEARNING_RATE = 1e-2, LARGEST_CONST = 20, MAX_ITERATIONS = 10, norm='L2',\n",
        "              const_factor = 2.0, threshold = .0001):\n",
        "  shape = (batch_size, num_channels, image_size, image_size)\n",
        "\n",
        "  # оптимизируемая добавка\n",
        "  modifier = torch.autograd.Variable(torch.zeros(shape, dtype=torch.float32, device=device), requires_grad=True)\n",
        "\n",
        "  simg = img.to(device)\n",
        "  lab = np.argmax(model(img).detach().numpy())\n",
        "  lab = torch.tensor(lab)\n",
        "  slab = lab.to(device)\n",
        "  tlab = torch.tensor(target).to(device)\n",
        "  const = []\n",
        "\n",
        "  # one hot закодированные метрки классов\n",
        "  slab = torch.nn.functional.one_hot(slab, num_classes= 500)\n",
        "  if not tlab is None:\n",
        "    tlab = torch.nn.functional.one_hot(tlab, num_classes= 500)\n",
        "\n",
        "  optimizer = torch.optim.Adam([modifier], lr=LEARNING_RATE)\n",
        "\n",
        "  CONST = INITIAL_CONST\n",
        "\n",
        "  while CONST < LARGEST_CONST:\n",
        "      for step in range(MAX_ITERATIONS):\n",
        "          newimg = modifier + simg\n",
        "          newimg.clamp_(min=-1.0, max=1.0)\n",
        "          output = model(newimg)\n",
        "\n",
        "          real = torch.sum((slab)*output,-1) # по сути это значение вектора выхода в ячейке исходного класса\n",
        "\n",
        "\n",
        "          if targeted:\n",
        "              # приближаем к целевому классу\n",
        "              other = torch.sum((tlab)*output,-1) # значение вектора выхода в ячейке целевого класса\n",
        "          else:\n",
        "              # приближаем к ближайшему классу, отличному от изначального\n",
        "              other = torch.max((1-slab)*output - (slab*10000)) # значение вектора выхода в ячейке ближайшего неисходного класса\n",
        "\n",
        "          # первая компонента лосса\n",
        "          loss1 = torch.maximum(torch.tensor(0.0, device=device), real-other+0.1)\n",
        "\n",
        "          # вторая компонента лосса -- ограничение добавки по норме\n",
        "          if norm == 'L0':\n",
        "            loss2 = torch.sum(torch.abs(modifier) > 0)\n",
        "          if norm == 'L2':\n",
        "            loss2 = torch.sum(torch.square(modifier))\n",
        "          if norm == 'Linf':\n",
        "            loss2 = torch.max(torch.abs(modifier))\n",
        "\n",
        "          # суммарный лосс\n",
        "          loss = CONST*loss1+loss2\n",
        "\n",
        "          optimizer.zero_grad()\n",
        "          loss.backward()\n",
        "          optimizer.step()\n",
        "\n",
        "          if loss1.item() < threshold:\n",
        "              return newimg\n",
        "\n",
        "      # атака еще не успешна, пробуем с другой константой\n",
        "      CONST *= const_factor"
      ],
      "metadata": {
        "id": "vUBfYNnGOagD"
      },
      "execution_count": null,
      "outputs": []
    },
    {
      "cell_type": "code",
      "source": [
        "x_adv =  cw_attack(model, image.clone(), label.item(), targeted=False, norm='Linf')"
      ],
      "metadata": {
        "id": "atZSv4AVOi1S"
      },
      "execution_count": null,
      "outputs": []
    },
    {
      "cell_type": "code",
      "source": [
        "# Предсказание до атаки\n",
        "with torch.no_grad():\n",
        "    orig_pred = model(image)\n",
        "    orig_class = torch.argmax(orig_pred, dim=1).item()\n",
        "\n",
        "# Предсказание после атаки\n",
        "with torch.no_grad():\n",
        "    adv_pred = model(x_adv)\n",
        "    adv_class = torch.argmax(adv_pred, dim=1).item()\n",
        "\n",
        "print(f\"🎯 Оригинальный класс: {orig_class}\")\n",
        "print(f\"🎯 Предсказанный класс после атаки: {adv_class}\")"
      ],
      "metadata": {
        "id": "vKobYXksOfdi"
      },
      "execution_count": null,
      "outputs": []
    },
    {
      "cell_type": "code",
      "source": [
        "def show_tensor_image(tensor):\n",
        "    tensor = tensor.squeeze(0).detach().cpu()\n",
        "    tensor = tensor - tensor.min()  # поднимаем минимум к 0\n",
        "    tensor = tensor / (tensor.max() + 1e-8)  # нормируем максимум к 1, защита от деления на 0\n",
        "    np_image = tensor.permute(1, 2, 0).numpy()\n",
        "    plt.imshow(np_image)\n",
        "    plt.axis('off')\n",
        "    plt.show()\n",
        "\n",
        "# Оригинальное изображение\n",
        "show_tensor_image(image)\n",
        "\n",
        "# Атакованное изображение\n",
        "show_tensor_image(x_adv)"
      ],
      "metadata": {
        "id": "UyFh2zXiPSZ6"
      },
      "execution_count": null,
      "outputs": []
    },
    {
      "cell_type": "markdown",
      "source": [
        "# C&W targeted"
      ],
      "metadata": {
        "id": "F9d7PNM5Emgx"
      }
    },
    {
      "cell_type": "code",
      "source": [
        "# Исходное изображение и его класс\n",
        "original_image = image.clone()\n",
        "original_label = label.item()  # текущий класс изображения\n",
        "\n",
        "# Выбираем целевой класс для атаки (например, класс 123)\n",
        "target_class = 123\n",
        "\n",
        "# Запускаем направленную атаку\n",
        "x_adv_targeted = cw_attack(\n",
        "    model=model,\n",
        "    img=original_image,\n",
        "    target=target_class,       # целевой класс\n",
        "    targeted=True,             # активируем режим направленной атаки\n",
        "    norm='Linf',               # норма для ограничения\n",
        "    MAX_ITERATIONS=20,         # можно увеличить число итераций\n",
        "    LEARNING_RATE=0.01         # или настроить другие параметры\n",
        ")"
      ],
      "metadata": {
        "id": "nZhFvvLnEsMS"
      },
      "execution_count": null,
      "outputs": []
    },
    {
      "cell_type": "code",
      "source": [
        "# Предсказание для adversarial-изображения\n",
        "adv_pred = model(x_adv_targeted).argmax().item()\n",
        "\n",
        "if adv_pred == target_class:\n",
        "    print(\"Атака успешна: модель классифицировала изображение как целевой класс!\")\n",
        "else:\n",
        "    print(\"Атака не удалась. Попробуйте увеличить MAX_ITERATIONS или CONST_FACTOR.\")"
      ],
      "metadata": {
        "id": "UkmLvjlhMpkM"
      },
      "execution_count": null,
      "outputs": []
    },
    {
      "cell_type": "code",
      "source": [
        "# Атакованное изображение\n",
        "show_tensor_image(x_adv_targeted)"
      ],
      "metadata": {
        "id": "sIMh1KASM0GM"
      },
      "execution_count": null,
      "outputs": []
    },
    {
      "cell_type": "markdown",
      "source": [
        "# DeepFool"
      ],
      "metadata": {
        "id": "vaYCqRXROkVU"
      }
    },
    {
      "cell_type": "code",
      "source": [
        "from torch.autograd import Variable\n",
        "import torch as torch\n",
        "import copy\n",
        "\n",
        "\n",
        "def deepfool(net, image, target=None, targeted=False, num_classes=500, max_iter=50):\n",
        "    device = 'cpu'\n",
        "    image = image.float().to(device)\n",
        "    f_image = net(image).data.cpu().numpy().flatten()\n",
        "    # сортируем выходы модели по убыванию\n",
        "    I = (np.array(f_image)).flatten().argsort()[::-1]\n",
        "    I = I[0:num_classes]\n",
        "    # определяем исходную метку класса\n",
        "    label = I[0]\n",
        "\n",
        "\n",
        "    input_shape = image.cpu().numpy().shape\n",
        "    pert_image = copy.deepcopy(image)\n",
        "    w = np.zeros(input_shape)\n",
        "    # переменная для аггрегирования атакующей добавки\n",
        "    r_tot = np.zeros(input_shape)\n",
        "\n",
        "    loop_i = 0\n",
        "\n",
        "    pert_image = pert_image.reshape(3, 160, 160)\n",
        "    # будем считать градиенты относительно изображения, которое в процессе станет атакованным\n",
        "    x = Variable(pert_image[None, :], requires_grad=True)\n",
        "    fs = net(x)\n",
        "    fs_list = [fs[0,I[k]] for k in range(num_classes)]\n",
        "    k_i = label\n",
        "\n",
        "    # выполняем до тех пор пока текущая метка класса совпадает с исходной (или до макс. кол-ва итераций)\n",
        "    while k_i == label and loop_i < max_iter:\n",
        "        li = np.inf\n",
        "        fs = net(x)\n",
        "        fs[0, I[0]].backward(retain_graph=True)\n",
        "        grad_orig = x.grad.data.cpu().numpy().copy() # градиент относительно исходной метки класса\n",
        "\n",
        "        # итерация по всем классам\n",
        "        for k in range(1, num_classes):\n",
        "            x.grad.zero_()\n",
        "            fs = net(x)\n",
        "            fs[0, I[k]].backward()\n",
        "            cur_grad = x.grad.data.cpu().numpy().copy() # градиент относительно k-й метки класса\n",
        "\n",
        "            # вычисляем текущие wk и fk\n",
        "            w_k = cur_grad - grad_orig          # wk\n",
        "            f_k = (fs[0, I[k]] - fs[0, I[0]]).data.cpu().numpy()  # fk\n",
        "\n",
        "            li_k = abs(f_k)/np.linalg.norm(w_k.flatten())\n",
        "\n",
        "            # выбираем минимальный li\n",
        "            if li_k < li:\n",
        "                li = li_k\n",
        "                w = w_k\n",
        "\n",
        "        # вычисляем добавку на текущем шаге\n",
        "        r_i =  (li) * w / np.linalg.norm(w)\n",
        "        # добавляем ее к общей добавке\n",
        "        r_tot = np.float32(r_tot + r_i)\n",
        "\n",
        "        # обновляем атакованное изображение\n",
        "        pert_image = image + torch.from_numpy(r_tot).to(device)\n",
        "\n",
        "        x = Variable(pert_image, requires_grad=True)\n",
        "        fs = net(x)\n",
        "        # вычисляем новую метку класса\n",
        "        k_i = np.argmax(fs.data.cpu().numpy().flatten())\n",
        "\n",
        "        loop_i += 1\n",
        "\n",
        "    return pert_image"
      ],
      "metadata": {
        "id": "xWuyjrRWOn1g"
      },
      "execution_count": null,
      "outputs": []
    },
    {
      "cell_type": "code",
      "source": [
        "x_adv = deepfool(model, image.clone())"
      ],
      "metadata": {
        "id": "lTqfrvwyO1_2"
      },
      "execution_count": null,
      "outputs": []
    },
    {
      "cell_type": "code",
      "source": [
        "# Предсказание до атаки\n",
        "with torch.no_grad():\n",
        "    orig_pred = model(image)\n",
        "    orig_class = torch.argmax(orig_pred, dim=1).item()\n",
        "\n",
        "# Предсказание после атаки\n",
        "with torch.no_grad():\n",
        "    adv_pred = model(x_adv)\n",
        "    adv_class = torch.argmax(adv_pred, dim=1).item()\n",
        "\n",
        "print(f\"🎯 Оригинальный класс: {orig_class}\")\n",
        "print(f\"🎯 Предсказанный класс после атаки: {adv_class}\")"
      ],
      "metadata": {
        "id": "jIVQXVF1QWdq"
      },
      "execution_count": null,
      "outputs": []
    },
    {
      "cell_type": "code",
      "source": [
        "def show_tensor_image(tensor):\n",
        "    tensor = tensor.squeeze(0).detach().cpu()\n",
        "    tensor = tensor - tensor.min()  # поднимаем минимум к 0\n",
        "    tensor = tensor / (tensor.max() + 1e-8)  # нормируем максимум к 1, защита от деления на 0\n",
        "    np_image = tensor.permute(1, 2, 0).numpy()\n",
        "    plt.imshow(np_image)\n",
        "    plt.axis('off')\n",
        "    plt.show()\n",
        "\n",
        "# Оригинальное изображение\n",
        "show_tensor_image(image)\n",
        "\n",
        "# Атакованное изображение\n",
        "show_tensor_image(x_adv)"
      ],
      "metadata": {
        "id": "ZWf450rZQg2i"
      },
      "execution_count": null,
      "outputs": []
    },
    {
      "cell_type": "markdown",
      "source": [
        "# JSMA"
      ],
      "metadata": {
        "id": "C93DAjJtRTJ5"
      }
    },
    {
      "cell_type": "code",
      "source": [
        "print(image.min(), image.max())"
      ],
      "metadata": {
        "id": "Ua-gK6mxO5_b"
      },
      "execution_count": null,
      "outputs": []
    },
    {
      "cell_type": "code",
      "source": [
        "def compute_jacobian(model, image):\n",
        "    '''\n",
        "    :param model: the model to compute the Jacobian matrix\n",
        "    :param image: the input image, 1*784\n",
        "    :return: the Jacobian matrix, 10*784\n",
        "    '''\n",
        "    image_tmp = image.clone().detach().requires_grad_(True)\n",
        "    output = model(image_tmp.reshape(1, 3, 160, 160))\n",
        "\n",
        "    num_features = int(np.prod(image_tmp.shape[1:]))\n",
        "    jacobian = torch.zeros([output.size()[1], num_features])\n",
        "\n",
        "    for i in range(output.size()[1]):\n",
        "        if image_tmp.grad is not None:\n",
        "            image_tmp.grad.zero_()\n",
        "        output[0][i].backward(retain_graph=True)\n",
        "        jacobian[i] = image_tmp.grad.clone()\n",
        "\n",
        "    return jacobian\n",
        "\n",
        "\n",
        "\n",
        "def saliency_map(jacobian, target_index, increasing, search_space, nb_features):\n",
        "    '''\n",
        "    :param jacobian: the Jacobian matrix of forward derivative, 10*784\n",
        "    :param target_index: the target class, 0-9\n",
        "    :param increasing: whether to increase the prediction score, True or False\n",
        "    :param search_space: the search domain, 1*784\n",
        "    :param nb_features: the number of features, 784\n",
        "    :return: the most significant two pixels, p and q\n",
        "    '''\n",
        "\n",
        "    domain = torch.eq(search_space, 1).float()\n",
        "    all_sum = torch.sum(jacobian, dim=0, keepdim=True)\n",
        "    target_grad = jacobian[target_index]\n",
        "    others_grad = all_sum - target_grad\n",
        "\n",
        "    if increasing:\n",
        "        increase_coef = 2 * (torch.eq(domain, 0)).float()\n",
        "    else:\n",
        "        increase_coef = -1 * 2 * (torch.eq(domain, 0)).float()\n",
        "\n",
        "    target_tmp = target_grad.clone()\n",
        "    target_tmp -= increase_coef * torch.max(torch.abs(target_grad))\n",
        "\n",
        "    alpha = target_tmp.view(-1, 1, nb_features) + target_tmp.view(-1, nb_features, 1)\n",
        "\n",
        "    others_tmp = others_grad.clone()\n",
        "    others_tmp += increase_coef * torch.max(torch.abs(others_grad))\n",
        "    beta = others_tmp.view(-1, 1, nb_features) + others_tmp.view(-1, nb_features, 1)\n",
        "\n",
        "    tmp = np.ones((nb_features, nb_features), int)\n",
        "    np.fill_diagonal(tmp, 0)\n",
        "    zero_diagonal = torch.from_numpy(tmp).byte()\n",
        "\n",
        "    if increasing:\n",
        "        mask1 = torch.gt(alpha, 0.0)\n",
        "        mask2 = torch.lt(beta, 0.0)\n",
        "    else:\n",
        "        mask1 = torch.lt(alpha, 0.0)\n",
        "        mask2 = torch.gt(beta, 0.0)\n",
        "\n",
        "    mask = torch.mul(torch.mul(mask1, mask2), zero_diagonal.view_as(mask1))\n",
        "    saliency_map = torch.mul(torch.mul(alpha, torch.abs(beta)), mask.float())\n",
        "    max_value, max_idx = torch.max(saliency_map.view(-1, nb_features * nb_features), dim=1)\n",
        "    p = max_idx // nb_features\n",
        "    q = max_idx % nb_features\n",
        "    return p, q\n",
        "\n",
        "\n",
        "def jsma(model, image, target, targeted=True, theta=0.5, gamma=0.1):\n",
        "    '''\n",
        "    :param image: the input image, 1*784, numpy array\n",
        "    :param ys_target: the target class, 0-9, int\n",
        "    :param theta: the perturbation value\n",
        "    :param gamma: the ratio of the number of features to be perturbed\n",
        "    :param model: the model to be attacked\n",
        "    :return: the adversarial sample\n",
        "    '''\n",
        "    image = image.flatten()[None, :]\n",
        "    image_tmp = np.copy(image)\n",
        "    var_sample = Variable(torch.from_numpy(image_tmp), requires_grad=True)\n",
        "    var_target = Variable(torch.LongTensor([target]))\n",
        "\n",
        "    if theta > 0:\n",
        "        increasing = True\n",
        "    else:\n",
        "        increasing = False\n",
        "\n",
        "    num_features = int(np.prod(image_tmp.shape[1:]))\n",
        "    shape = var_sample.size()\n",
        "\n",
        "    # на каждой итерации меняем 2 пикселя, поэтому делим максимальное кол-во итераций на 2\n",
        "    max_iters = int(np.ceil(num_features * gamma / 2.0))\n",
        "\n",
        "    # маскируем пространство поиска (не меняем пиксели, значения которых уже граничные)\n",
        "    if increasing:\n",
        "        search_domain = torch.lt(var_sample, 0.99)\n",
        "    else:\n",
        "        search_domain = torch.gt(var_sample, -0.99)\n",
        "    search_domain = search_domain.view(num_features)\n",
        "\n",
        "    model.eval()\n",
        "    output = model(var_sample.reshape(1, 3, 160, 160))\n",
        "    current = torch.max(output.data, 1)[1].cpu().numpy()\n",
        "\n",
        "    iter = 0\n",
        "    while (iter < max_iters) and (current[0] != target) and (search_domain.sum() != 0):\n",
        "        jacobian = compute_jacobian(model, var_sample)\n",
        "        # определяем 2 самых значительных пикселя\n",
        "        p1, p2 = saliency_map(jacobian, target, increasing, search_domain, num_features)\n",
        "        # применяем модификации к этим пикселям\n",
        "        var_sample_flatten = var_sample.view(-1, num_features).clone().detach_()\n",
        "        var_sample_flatten[0, p1] += theta\n",
        "        var_sample_flatten[0, p2] += theta\n",
        "\n",
        "        new_sample = torch.clamp(var_sample_flatten, min=-1.0, max=1.0)\n",
        "        new_sample = new_sample.view(shape)\n",
        "        # зануляем пространство поиска для использованных пикселей\n",
        "        search_domain[p1] = 0\n",
        "        search_domain[p2] = 0\n",
        "        var_sample = Variable(new_sample, requires_grad=True)\n",
        "\n",
        "        output = model(var_sample.reshape(1, 3, 160, 160))\n",
        "        # определяем текущий класс\n",
        "        current = torch.max(output.data, 1)[1].cpu().numpy()\n",
        "        iter += 1\n",
        "\n",
        "    adv_samples = var_sample\n",
        "    return adv_samples.reshape(1, 3, 160, 160)"
      ],
      "metadata": {
        "id": "WH3jnIPkRUse"
      },
      "execution_count": null,
      "outputs": []
    },
    {
      "cell_type": "code",
      "source": [
        "image.shape"
      ],
      "metadata": {
        "id": "u5I-QCCNQ7Ig"
      },
      "execution_count": null,
      "outputs": []
    },
    {
      "cell_type": "code",
      "source": [
        "x_adv = jsma(model, image.clone(), 112)"
      ],
      "metadata": {
        "id": "iuPkVc4xRcID"
      },
      "execution_count": null,
      "outputs": []
    },
    {
      "cell_type": "markdown",
      "source": [
        "# Black box"
      ],
      "metadata": {
        "id": "ms19WjxP6P1V"
      }
    },
    {
      "cell_type": "code",
      "source": [
        "import torch\n",
        "import torchvision.transforms as T\n",
        "from torchvision import datasets, models\n",
        "from torch.nn import functional as F\n",
        "import torch.nn as nn\n",
        "from PIL import Image\n",
        "import numpy as np\n",
        "import matplotlib.pyplot as plt\n",
        "from PIL import Image\n",
        "import requests\n",
        "from tqdm import tqdm\n",
        "from torch.utils.data import DataLoader\n",
        "from torch.optim import Adam\n",
        "import itertools\n",
        "import math\n",
        "import heapq\n",
        "from torch.nn.modules import Upsample"
      ],
      "metadata": {
        "id": "g4dj9ibCQ6IP"
      },
      "execution_count": null,
      "outputs": []
    },
    {
      "cell_type": "code",
      "source": [
        "mean = torch.tensor([0.485, 0.456, 0.406]).view(1, 3, 1, 1)\n",
        "std = torch.tensor([0.229, 0.224, 0.225]).view(1, 3, 1, 1)\n",
        "device = 'cuda:0' if torch.cuda.is_available() else 'cpu'\n",
        "\n",
        "transform = T.Compose([\n",
        "    T.Resize((224, 224)),\n",
        "    T.ToTensor(),\n",
        "    T.Normalize(mean=mean.ravel(), std=std.ravel())\n",
        "])"
      ],
      "metadata": {
        "id": "Qv69ruxtRD9w"
      },
      "execution_count": null,
      "outputs": []
    },
    {
      "cell_type": "code",
      "source": [
        "def preprocess_image(img_path):\n",
        "    transform = T.Compose([\n",
        "        T.ToTensor(),\n",
        "        T.Normalize(mean=mean.ravel(), std=std.ravel()),\n",
        "    ])\n",
        "    img = Image.open(img_path).convert('RGB')\n",
        "    img = transform(img).unsqueeze(0)\n",
        "    return img\n",
        "\n",
        "def tensor_to_numpy(x):\n",
        "    x = x.squeeze().permute(1, 2, 0).detach().cpu().numpy()\n",
        "    return x\n",
        "\n",
        "def normalize(perturbed):\n",
        "\treturn (perturbed - mean.to(device))/std.to(device)\n",
        "\n",
        "def denormalize(perturbed):\n",
        "     return perturbed*std.to(device) + mean.to(device)\n",
        "\n",
        "def show_attack(original, adv, model_to_prob):\n",
        "    with torch.no_grad():\n",
        "        clean_probs = model_to_prob(original).detach().cpu().numpy()\n",
        "        attacked_probs = model_to_prob(adv).detach().cpu().numpy()\n",
        "    original_normed = denormalize(original)\n",
        "    adv_normed = denormalize(adv)\n",
        "    original_normed = original_normed.cpu()\n",
        "    adv_normed = adv_normed.cpu()\n",
        "    difference = original_normed - adv_normed\n",
        "    if difference.abs().max() > 0:\n",
        "        difference = (difference - difference.min())/(difference.max() - difference.min())\n",
        "    f, axarr = plt.subplots(1, 3, figsize=(10, 8))\n",
        "    axarr[0].imshow(tensor_to_numpy(original_normed))\n",
        "    axarr[0].set_title(\"Original, class: \" + str(clean_probs.argmax()))\n",
        "    axarr[0].axis('off')\n",
        "    axarr[1].imshow(tensor_to_numpy(difference))\n",
        "    axarr[1].set_title(\"Difference\")\n",
        "    axarr[1].axis('off')\n",
        "    axarr[2].imshow(tensor_to_numpy(adv_normed))\n",
        "    axarr[2].set_title(\"Attacked, class: \" + str(attacked_probs.argmax()))\n",
        "    axarr[2].axis('off')\n",
        "    plt.show()"
      ],
      "metadata": {
        "id": "EupjURUYQqk6"
      },
      "execution_count": null,
      "outputs": []
    },
    {
      "cell_type": "markdown",
      "source": [
        "![image.png](data:image/png;base64,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)"
      ],
      "metadata": {
        "id": "48k3czetQTYO"
      }
    },
    {
      "cell_type": "code",
      "source": [
        "def simba(x, y, model, epsilon=0.1, num_iters=10000, targeted=False):\n",
        "    x = denormalize(x)\n",
        "    n_dims = x.view(1, -1).size(1)\n",
        "    perm = torch.randperm(n_dims)\n",
        "    probs = F.softmax(model(normalize(x)), dim=-1).data[:, y]\n",
        "    last_prob = torch.diag(probs)\n",
        "\n",
        "    for i in tqdm(range(num_iters)):\n",
        "        delta = torch.zeros(n_dims).to(device)\n",
        "        delta[perm[i]] = epsilon\n",
        "\n",
        "        left_vec = (x - delta.view(x.size())).clamp(-1, 1)\n",
        "        probs = F.softmax(model(normalize(left_vec))).data[:, y]\n",
        "        left_prob = torch.diag(probs)\n",
        "\n",
        "        if targeted != (left_prob < last_prob).item():\n",
        "            x = left_vec.clone()\n",
        "            last_prob = left_prob\n",
        "        else:\n",
        "            right_vec = (x + delta.view(x.size())).clamp(-1, 1)\n",
        "            probs = F.softmax(model(normalize(right_vec))).data[:, y]\n",
        "            right_prob = torch.diag(probs)\n",
        "\n",
        "            if targeted != (right_prob < last_prob).item():\n",
        "                x = right_vec.clone()\n",
        "                last_prob = right_prob\n",
        "    return normalize(x)"
      ],
      "metadata": {
        "id": "7usrwu-R6TUB"
      },
      "execution_count": null,
      "outputs": []
    },
    {
      "cell_type": "code",
      "source": [
        "image_path = '/content/images_dataset/000007.jpg'\n",
        "data = preprocess_image(image_path).to(device)\n",
        "original_class = model(data).argmax().item()\n",
        "with torch.no_grad():\n",
        "    adversarial_data = simba(data, original_class, model)\n",
        "show_attack(data, adversarial_data, model)"
      ],
      "metadata": {
        "id": "KPYORdrQQaxo"
      },
      "execution_count": null,
      "outputs": []
    }
  ]
}